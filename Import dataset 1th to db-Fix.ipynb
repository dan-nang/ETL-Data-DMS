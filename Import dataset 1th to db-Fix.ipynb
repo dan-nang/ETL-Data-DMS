{
 "cells": [
  {
   "cell_type": "code",
   "execution_count": 1,
   "id": "27dc4c4d",
   "metadata": {},
   "outputs": [
    {
     "name": "stdout",
     "output_type": "stream",
     "text": [
      "Requirement already satisfied: pandasql in c:\\users\\danan\\anaconda3\\lib\\site-packages (0.7.3)\n",
      "Requirement already satisfied: numpy in c:\\users\\danan\\anaconda3\\lib\\site-packages (from pandasql) (1.22.4)\n",
      "Requirement already satisfied: pandas in c:\\users\\danan\\anaconda3\\lib\\site-packages (from pandasql) (1.4.2)\n",
      "Requirement already satisfied: sqlalchemy in c:\\users\\danan\\anaconda3\\lib\\site-packages (from pandasql) (1.4.37)\n",
      "Requirement already satisfied: python-dateutil>=2.8.1 in c:\\users\\danan\\anaconda3\\lib\\site-packages (from pandas->pandasql) (2.8.2)\n",
      "Requirement already satisfied: pytz>=2020.1 in c:\\users\\danan\\anaconda3\\lib\\site-packages (from pandas->pandasql) (2021.3)\n",
      "Requirement already satisfied: greenlet!=0.4.17 in c:\\users\\danan\\anaconda3\\lib\\site-packages (from sqlalchemy->pandasql) (1.1.2)\n",
      "Requirement already satisfied: six>=1.5 in c:\\users\\danan\\anaconda3\\lib\\site-packages (from python-dateutil>=2.8.1->pandas->pandasql) (1.16.0)\n"
     ]
    }
   ],
   "source": [
    "#!pip install python-numexpr\n",
    "#!pip install python-pip build-essentials\n",
    "#!pip install bottleneck\n",
    "\n",
    "import pandas as pd\n",
    "!pip install pandasql\n",
    "from pandasql import sqldf"
   ]
  },
  {
   "cell_type": "markdown",
   "id": "93ce43c2",
   "metadata": {},
   "source": [
    "# Import Data Source"
   ]
  },
  {
   "cell_type": "code",
   "execution_count": null,
   "id": "224f2366",
   "metadata": {},
   "outputs": [],
   "source": [
    "#import dataset all\n",
    "\n",
    "df_src2 = pd.read_excel('DMSYear_All.xlsx')"
   ]
  },
  {
   "cell_type": "code",
   "execution_count": 3,
   "id": "f026023b",
   "metadata": {},
   "outputs": [],
   "source": [
    "df_src = df_src2.copy()"
   ]
  },
  {
   "cell_type": "code",
   "execution_count": 4,
   "id": "ca981c73",
   "metadata": {},
   "outputs": [
    {
     "data": {
      "text/plain": [
       "101029"
      ]
     },
     "execution_count": 4,
     "metadata": {},
     "output_type": "execute_result"
    }
   ],
   "source": [
    "# df_src.isna().sum()\n",
    "df_src = df_src.dropna(axis=0, subset=['Date'])\n",
    "df_src[df_src.columns[0]].count()"
   ]
  },
  {
   "cell_type": "code",
   "execution_count": 5,
   "id": "3ea73301",
   "metadata": {},
   "outputs": [],
   "source": [
    "# convert 2 column to one\n",
    "\n",
    "df_src['Datetime'] = pd.to_datetime(df_src.Date.astype(str) + ' ' + df_src.Time.astype(str))\n",
    "df_src['Datetime'] = df_src['Datetime'].astype('object')"
   ]
  },
  {
   "cell_type": "code",
   "execution_count": 6,
   "id": "4181ae61",
   "metadata": {},
   "outputs": [],
   "source": [
    "# rename column\n",
    "\n",
    "df_src= df_src.rename(columns={\"Vehicle\":\"Plate_Number\", \"Operator\":\"Nama_Driver\", \"Time\":\"Time2\", \"Datetime\":\"Time\",\n",
    "                               \"Shift\":\"shift\", \"Category\":\"Warning_Type\", \"Speed (Km/h)\":\"Speed\", \"SID/Code\":\"Kode_Drivers\",\n",
    "                               \"Operator\":\"Nama_Driver\", \"Latitude\":\"lat\", \"Longitude\":\"lng\", \"Media\":\"media\", \n",
    "                               \"Area\":\"Nama_Area\", \"Heading\":\"dir\"})"
   ]
  },
  {
   "cell_type": "code",
   "execution_count": 7,
   "id": "3fa66621",
   "metadata": {},
   "outputs": [
    {
     "data": {
      "text/plain": [
       "67576"
      ]
     },
     "execution_count": 7,
     "metadata": {},
     "output_type": "execute_result"
    }
   ],
   "source": [
    "# cleaning data\n",
    "\n",
    "df_src['shift'] = df_src['shift'].apply(pd.to_numeric).astype('Int64')\n",
    "df_src = df_src.dropna(axis=0, subset=['Kode_Drivers'])\n",
    "\n",
    "df_src[df_src.columns[0]].count()"
   ]
  },
  {
   "cell_type": "code",
   "execution_count": null,
   "id": "a49e1654",
   "metadata": {},
   "outputs": [],
   "source": [
    "# cleaning duplicate data\n",
    "\n",
    "df_src.duplicated(subset=['Plate_Number', 'Time', 'Kode_Drivers', 'Warning_Type'], keep='first')\n",
    "# df_src.duplicated(subset=['PK1'])"
   ]
  },
  {
   "cell_type": "code",
   "execution_count": null,
   "id": "786c539f",
   "metadata": {},
   "outputs": [],
   "source": [
    "pd.set_option('display.max_columns', None)\n",
    "# df_final.head()\n",
    "df_src.tail()"
   ]
  },
  {
   "cell_type": "code",
   "execution_count": 9,
   "id": "922ff2b1",
   "metadata": {},
   "outputs": [
    {
     "data": {
      "text/plain": [
       "67576"
      ]
     },
     "execution_count": 9,
     "metadata": {},
     "output_type": "execute_result"
    }
   ],
   "source": [
    "# count total row\n",
    "\n",
    "# df_src = df_src.drop_duplicates(subset=['Time', 'Kode_Drivers', 'Warning_Type'], keep='first')\n",
    "df_src[df_src.columns[0]].count()"
   ]
  },
  {
   "cell_type": "code",
   "execution_count": null,
   "id": "20d77fbf",
   "metadata": {},
   "outputs": [],
   "source": [
    "# see missing value\n",
    "\n",
    "df_src.isnull().sum()"
   ]
  },
  {
   "cell_type": "markdown",
   "id": "d9e6e054",
   "metadata": {},
   "source": [
    "# Read DB Destination"
   ]
  },
  {
   "cell_type": "code",
   "execution_count": 12,
   "id": "3d1ea246",
   "metadata": {},
   "outputs": [
    {
     "name": "stdout",
     "output_type": "stream",
     "text": [
      "Connected\n"
     ]
    }
   ],
   "source": [
    "import mysql.connector\n",
    "import pandas as pd\n",
    "\n",
    "\n",
    "# read db destination\n",
    "\n",
    "mydb = mysql.connector.connect(\n",
    "    host= '#YOURHOST',\n",
    "    port= #YOURPORT,\n",
    "    user= '#YOURUSER',\n",
    "    password= '#YOURPASSWORD',\n",
    "    database=\"#YOURDATABASE\"\"\n",
    ")\n",
    "if mydb.is_connected():\n",
    "    print(\"Connected\")"
   ]
  },
  {
   "cell_type": "code",
   "execution_count": null,
   "id": "b7a3c0ee",
   "metadata": {},
   "outputs": [],
   "source": [
    "# Open data destination MySQL\n",
    "\n",
    "mycursor_dst = mydb.cursor()\n",
    "data_dst = pd.read_sql_query(\"select * from dms2.DMS_Backup\", con=mydb)"
   ]
  },
  {
   "cell_type": "code",
   "execution_count": 25,
   "id": "85575932",
   "metadata": {},
   "outputs": [],
   "source": [
    "# delete missing value\n",
    "\n",
    "data_dst = data_dst.dropna(axis=0, subset=['Kode_Drivers'])"
   ]
  },
  {
   "cell_type": "code",
   "execution_count": null,
   "id": "97d05874",
   "metadata": {},
   "outputs": [],
   "source": [
    "# see missing value\n",
    "\n",
    "data_dst.isnull().sum()"
   ]
  },
  {
   "cell_type": "code",
   "execution_count": 27,
   "id": "7003971a",
   "metadata": {},
   "outputs": [
    {
     "data": {
      "text/plain": [
       "73284"
      ]
     },
     "execution_count": 27,
     "metadata": {},
     "output_type": "execute_result"
    }
   ],
   "source": [
    "# count total row\n",
    "\n",
    "data_dst[data_dst.columns[0]].count()"
   ]
  },
  {
   "cell_type": "markdown",
   "id": "7d245622",
   "metadata": {},
   "source": [
    "# Append Data source to Database Destination"
   ]
  },
  {
   "cell_type": "code",
   "execution_count": 28,
   "id": "e9194616",
   "metadata": {},
   "outputs": [
    {
     "data": {
      "text/plain": [
       "140860"
      ]
     },
     "execution_count": 28,
     "metadata": {},
     "output_type": "execute_result"
    }
   ],
   "source": [
    "# Select data\n",
    "\n",
    "df1 = pd.DataFrame(df_src, columns= ['Plate_Number', 'Time', 'shift', 'Warning_Type', 'Speed', 'Nama_Area', 'Kode_Drivers', \n",
    "                                  'Nama_Driver', 'media'])\n",
    "df2 = pd.DataFrame(data_dst, columns= ['Plate_Number', 'Time', 'shift', 'Warning_Type', 'Speed', 'Nama_Area', 'Kode_Drivers', \n",
    "                                  'Nama_Driver', 'media'])\n",
    "\n",
    "df_final = pd.concat([df1, df2], ignore_index=True)\n",
    "df_final[df_final.columns[0]].count()"
   ]
  },
  {
   "cell_type": "code",
   "execution_count": 29,
   "id": "93428045",
   "metadata": {},
   "outputs": [
    {
     "data": {
      "text/plain": [
       "77613"
      ]
     },
     "execution_count": 29,
     "metadata": {},
     "output_type": "execute_result"
    }
   ],
   "source": [
    "# Drop duplicate\n",
    "\n",
    "df_final = df_final.drop_duplicates(subset=['Plate_Number', 'Time', 'Kode_Drivers', 'Warning_Type'], keep='first')\n",
    "# df = df.drop_duplicates()\n",
    "\n",
    "df_final[df_final.columns[0]].count()"
   ]
  },
  {
   "cell_type": "code",
   "execution_count": null,
   "id": "956067f6",
   "metadata": {},
   "outputs": [],
   "source": [
    "# read all column\n",
    "\n",
    "pd.set_option('display.max_columns', None)\n",
    "# df_final.head()\n",
    "df_final"
   ]
  },
  {
   "cell_type": "code",
   "execution_count": null,
   "id": "841fe40f",
   "metadata": {},
   "outputs": [],
   "source": [
    "# cleaning data\n",
    "\n",
    "# column = ['ID', 'acc', 'id_warning_type', 'flag_alarm']\n",
    "# for i in column:\n",
    "#     df[i] = df[i].astype('object')\n",
    "\n",
    "df_src['shift'] = df_src['shift'].astype('object')\n",
    "df_src = df_src.astype(object).where(pd.notnull(df_src), None)\n",
    "df_src.info()"
   ]
  },
  {
   "cell_type": "code",
   "execution_count": 33,
   "id": "2f56d2d9",
   "metadata": {},
   "outputs": [],
   "source": [
    "# delete null value\n",
    "\n",
    "df_final = df_final.fillna(0)"
   ]
  },
  {
   "cell_type": "code",
   "execution_count": null,
   "id": "1e28db5f",
   "metadata": {},
   "outputs": [],
   "source": [
    "# see missing value \n",
    "\n",
    "df_final.isnull().sum()"
   ]
  },
  {
   "cell_type": "code",
   "execution_count": 36,
   "id": "9c4bcff6",
   "metadata": {
    "collapsed": true
   },
   "outputs": [
    {
     "ename": "DatabaseError",
     "evalue": "1364 (HY000): Field 'Device_ID' doesn't have a default value",
     "output_type": "error",
     "traceback": [
      "\u001b[1;31m---------------------------------------------------------------------------\u001b[0m",
      "\u001b[1;31mMySQLInterfaceError\u001b[0m                       Traceback (most recent call last)",
      "File \u001b[1;32m~\\anaconda3\\lib\\site-packages\\mysql\\connector\\connection_cext.py:535\u001b[0m, in \u001b[0;36mCMySQLConnection.cmd_query\u001b[1;34m(self, query, raw, buffered, raw_as_string)\u001b[0m\n\u001b[0;32m    534\u001b[0m         query \u001b[38;5;241m=\u001b[39m query\u001b[38;5;241m.\u001b[39mencode(\u001b[38;5;124m'\u001b[39m\u001b[38;5;124mutf-8\u001b[39m\u001b[38;5;124m'\u001b[39m)\n\u001b[1;32m--> 535\u001b[0m     \u001b[38;5;28;43mself\u001b[39;49m\u001b[38;5;241;43m.\u001b[39;49m\u001b[43m_cmysql\u001b[49m\u001b[38;5;241;43m.\u001b[39;49m\u001b[43mquery\u001b[49m\u001b[43m(\u001b[49m\u001b[43mquery\u001b[49m\u001b[43m,\u001b[49m\n\u001b[0;32m    536\u001b[0m \u001b[43m                       \u001b[49m\u001b[43mraw\u001b[49m\u001b[38;5;241;43m=\u001b[39;49m\u001b[43mraw\u001b[49m\u001b[43m,\u001b[49m\u001b[43m \u001b[49m\u001b[43mbuffered\u001b[49m\u001b[38;5;241;43m=\u001b[39;49m\u001b[43mbuffered\u001b[49m\u001b[43m,\u001b[49m\n\u001b[0;32m    537\u001b[0m \u001b[43m                       \u001b[49m\u001b[43mraw_as_string\u001b[49m\u001b[38;5;241;43m=\u001b[39;49m\u001b[43mraw_as_string\u001b[49m\u001b[43m,\u001b[49m\n\u001b[0;32m    538\u001b[0m \u001b[43m                       \u001b[49m\u001b[43mquery_attrs\u001b[49m\u001b[38;5;241;43m=\u001b[39;49m\u001b[38;5;28;43mself\u001b[39;49m\u001b[38;5;241;43m.\u001b[39;49m\u001b[43m_query_attrs\u001b[49m\u001b[43m)\u001b[49m\n\u001b[0;32m    539\u001b[0m \u001b[38;5;28;01mexcept\u001b[39;00m MySQLInterfaceError \u001b[38;5;28;01mas\u001b[39;00m exc:\n",
      "\u001b[1;31mMySQLInterfaceError\u001b[0m: Field 'Device_ID' doesn't have a default value",
      "\nDuring handling of the above exception, another exception occurred:\n",
      "\u001b[1;31mDatabaseError\u001b[0m                             Traceback (most recent call last)",
      "Input \u001b[1;32mIn [36]\u001b[0m, in \u001b[0;36m<cell line: 8>\u001b[1;34m()\u001b[0m\n\u001b[0;32m      9\u001b[0m     val\u001b[38;5;241m=\u001b[39m((df_final[\u001b[38;5;124m'\u001b[39m\u001b[38;5;124mPlate_Number\u001b[39m\u001b[38;5;124m'\u001b[39m][i]),(df_final[\u001b[38;5;124m'\u001b[39m\u001b[38;5;124mTime\u001b[39m\u001b[38;5;124m'\u001b[39m][i]),(df_final[\u001b[38;5;124m'\u001b[39m\u001b[38;5;124mshift\u001b[39m\u001b[38;5;124m'\u001b[39m][i]),(df_final[\u001b[38;5;124m'\u001b[39m\u001b[38;5;124mWarning_Type\u001b[39m\u001b[38;5;124m'\u001b[39m][i]),(df_final[\u001b[38;5;124m'\u001b[39m\u001b[38;5;124mSpeed\u001b[39m\u001b[38;5;124m'\u001b[39m][i]),(df_final[\u001b[38;5;124m'\u001b[39m\u001b[38;5;124mNama_Area\u001b[39m\u001b[38;5;124m'\u001b[39m][i]),(df_final[\u001b[38;5;124m'\u001b[39m\u001b[38;5;124mKode_Drivers\u001b[39m\u001b[38;5;124m'\u001b[39m][i]),(df_final[\u001b[38;5;124m'\u001b[39m\u001b[38;5;124mNama_Driver\u001b[39m\u001b[38;5;124m'\u001b[39m][i]),(df_final[\u001b[38;5;124m'\u001b[39m\u001b[38;5;124mmedia\u001b[39m\u001b[38;5;124m'\u001b[39m][i]))\n\u001b[0;32m     10\u001b[0m     \u001b[38;5;66;03m#(val)\u001b[39;00m\n\u001b[1;32m---> 11\u001b[0m     \u001b[43mmycursor\u001b[49m\u001b[38;5;241;43m.\u001b[39;49m\u001b[43mexecute\u001b[49m\u001b[43m(\u001b[49m\u001b[43msql\u001b[49m\u001b[43m,\u001b[49m\u001b[43mval\u001b[49m\u001b[43m)\u001b[49m\n\u001b[0;32m     13\u001b[0m     db_dst\u001b[38;5;241m.\u001b[39mcommit()\n\u001b[0;32m     15\u001b[0m \u001b[38;5;28mprint\u001b[39m(mycursor\u001b[38;5;241m.\u001b[39mrowcount, \u001b[38;5;124m\"\u001b[39m\u001b[38;5;124mwas inserted.\u001b[39m\u001b[38;5;124m\"\u001b[39m)\n",
      "File \u001b[1;32m~\\anaconda3\\lib\\site-packages\\mysql\\connector\\cursor_cext.py:269\u001b[0m, in \u001b[0;36mCMySQLCursor.execute\u001b[1;34m(self, operation, params, multi)\u001b[0m\n\u001b[0;32m    265\u001b[0m             \u001b[38;5;28;01mraise\u001b[39;00m errors\u001b[38;5;241m.\u001b[39mProgrammingError(\n\u001b[0;32m    266\u001b[0m                 \u001b[38;5;124m\"\u001b[39m\u001b[38;5;124mNot all parameters were used in the SQL statement\u001b[39m\u001b[38;5;124m\"\u001b[39m)\n\u001b[0;32m    268\u001b[0m \u001b[38;5;28;01mtry\u001b[39;00m:\n\u001b[1;32m--> 269\u001b[0m     result \u001b[38;5;241m=\u001b[39m \u001b[38;5;28;43mself\u001b[39;49m\u001b[38;5;241;43m.\u001b[39;49m\u001b[43m_cnx\u001b[49m\u001b[38;5;241;43m.\u001b[39;49m\u001b[43mcmd_query\u001b[49m\u001b[43m(\u001b[49m\u001b[43mstmt\u001b[49m\u001b[43m,\u001b[49m\u001b[43m \u001b[49m\u001b[43mraw\u001b[49m\u001b[38;5;241;43m=\u001b[39;49m\u001b[38;5;28;43mself\u001b[39;49m\u001b[38;5;241;43m.\u001b[39;49m\u001b[43m_raw\u001b[49m\u001b[43m,\u001b[49m\n\u001b[0;32m    270\u001b[0m \u001b[43m                                 \u001b[49m\u001b[43mbuffered\u001b[49m\u001b[38;5;241;43m=\u001b[39;49m\u001b[38;5;28;43mself\u001b[39;49m\u001b[38;5;241;43m.\u001b[39;49m\u001b[43m_buffered\u001b[49m\u001b[43m,\u001b[49m\n\u001b[0;32m    271\u001b[0m \u001b[43m                                 \u001b[49m\u001b[43mraw_as_string\u001b[49m\u001b[38;5;241;43m=\u001b[39;49m\u001b[38;5;28;43mself\u001b[39;49m\u001b[38;5;241;43m.\u001b[39;49m\u001b[43m_raw_as_string\u001b[49m\u001b[43m)\u001b[49m\n\u001b[0;32m    272\u001b[0m \u001b[38;5;28;01mexcept\u001b[39;00m MySQLInterfaceError \u001b[38;5;28;01mas\u001b[39;00m exc:\n\u001b[0;32m    273\u001b[0m     \u001b[38;5;28;01mraise\u001b[39;00m errors\u001b[38;5;241m.\u001b[39mget_mysql_exception(msg\u001b[38;5;241m=\u001b[39mexc\u001b[38;5;241m.\u001b[39mmsg, errno\u001b[38;5;241m=\u001b[39mexc\u001b[38;5;241m.\u001b[39merrno,\n\u001b[0;32m    274\u001b[0m                                      sqlstate\u001b[38;5;241m=\u001b[39mexc\u001b[38;5;241m.\u001b[39msqlstate)\n",
      "File \u001b[1;32m~\\anaconda3\\lib\\site-packages\\mysql\\connector\\connection_cext.py:540\u001b[0m, in \u001b[0;36mCMySQLConnection.cmd_query\u001b[1;34m(self, query, raw, buffered, raw_as_string)\u001b[0m\n\u001b[0;32m    535\u001b[0m     \u001b[38;5;28mself\u001b[39m\u001b[38;5;241m.\u001b[39m_cmysql\u001b[38;5;241m.\u001b[39mquery(query,\n\u001b[0;32m    536\u001b[0m                        raw\u001b[38;5;241m=\u001b[39mraw, buffered\u001b[38;5;241m=\u001b[39mbuffered,\n\u001b[0;32m    537\u001b[0m                        raw_as_string\u001b[38;5;241m=\u001b[39mraw_as_string,\n\u001b[0;32m    538\u001b[0m                        query_attrs\u001b[38;5;241m=\u001b[39m\u001b[38;5;28mself\u001b[39m\u001b[38;5;241m.\u001b[39m_query_attrs)\n\u001b[0;32m    539\u001b[0m \u001b[38;5;28;01mexcept\u001b[39;00m MySQLInterfaceError \u001b[38;5;28;01mas\u001b[39;00m exc:\n\u001b[1;32m--> 540\u001b[0m     \u001b[38;5;28;01mraise\u001b[39;00m errors\u001b[38;5;241m.\u001b[39mget_mysql_exception(exc\u001b[38;5;241m.\u001b[39merrno, msg\u001b[38;5;241m=\u001b[39mexc\u001b[38;5;241m.\u001b[39mmsg,\n\u001b[0;32m    541\u001b[0m                                      sqlstate\u001b[38;5;241m=\u001b[39mexc\u001b[38;5;241m.\u001b[39msqlstate)\n\u001b[0;32m    542\u001b[0m \u001b[38;5;28;01mexcept\u001b[39;00m \u001b[38;5;167;01mAttributeError\u001b[39;00m:\n\u001b[0;32m    543\u001b[0m     \u001b[38;5;28;01mif\u001b[39;00m \u001b[38;5;28mself\u001b[39m\u001b[38;5;241m.\u001b[39m_unix_socket:\n",
      "\u001b[1;31mDatabaseError\u001b[0m: 1364 (HY000): Field 'Device_ID' doesn't have a default value"
     ]
    }
   ],
   "source": [
    "# DANGERR!!!!!\n",
    "# insert data to mySQL Database\n",
    "\n",
    "mycursor= db_dst.cursor()\n",
    "\n",
    "sql = \"INSERT INTO dms_backup.db_all_mitra_all(Plate_Number, Time, shift, Warning_Type, Speed, Nama_Area, Kode_Drivers, Nama_Driver, media) VALUES (%s,%s,%s,%s,%s,%s,%s,%s,%s)\"\n",
    "\n",
    "for i in range(0,len(df_src)):\n",
    "    val=((df_final['Plate_Number'][i]),(df_final['Time'][i]),(df_final['shift'][i]),(df_final['Warning_Type'][i]),(df_final['Speed'][i]),(df_final['Nama_Area'][i]),(df_final['Kode_Drivers'][i]),(df_final['Nama_Driver'][i]),(df_final['media'][i]))\n",
    "    #(val)\n",
    "    mycursor.execute(sql,val)\n",
    "    \n",
    "    db_dst.commit()\n",
    "\n",
    "print(mycursor.rowcount, \"was inserted.\")"
   ]
  },
  {
   "cell_type": "code",
   "execution_count": null,
   "id": "3954a761",
   "metadata": {},
   "outputs": [],
   "source": []
  }
 ],
 "metadata": {
  "kernelspec": {
   "display_name": "Python 3 (ipykernel)",
   "language": "python",
   "name": "python3"
  },
  "language_info": {
   "codemirror_mode": {
    "name": "ipython",
    "version": 3
   },
   "file_extension": ".py",
   "mimetype": "text/x-python",
   "name": "python",
   "nbconvert_exporter": "python",
   "pygments_lexer": "ipython3",
   "version": "3.9.12"
  }
 },
 "nbformat": 4,
 "nbformat_minor": 5
}
