{
 "cells": [
  {
   "cell_type": "code",
   "execution_count": 1,
   "id": "27dc4c4d",
   "metadata": {},
   "outputs": [
    {
     "name": "stdout",
     "output_type": "stream",
     "text": [
      "Requirement already satisfied: pandasql in c:\\users\\danan\\anaconda3\\lib\\site-packages (0.7.3)\n",
      "Requirement already satisfied: numpy in c:\\users\\danan\\anaconda3\\lib\\site-packages (from pandasql) (1.22.4)\n",
      "Requirement already satisfied: pandas in c:\\users\\danan\\anaconda3\\lib\\site-packages (from pandasql) (1.4.2)\n",
      "Requirement already satisfied: sqlalchemy in c:\\users\\danan\\anaconda3\\lib\\site-packages (from pandasql) (1.4.37)\n",
      "Requirement already satisfied: python-dateutil>=2.8.1 in c:\\users\\danan\\anaconda3\\lib\\site-packages (from pandas->pandasql) (2.8.2)\n",
      "Requirement already satisfied: pytz>=2020.1 in c:\\users\\danan\\anaconda3\\lib\\site-packages (from pandas->pandasql) (2021.3)\n",
      "Requirement already satisfied: greenlet!=0.4.17 in c:\\users\\danan\\anaconda3\\lib\\site-packages (from sqlalchemy->pandasql) (1.1.2)\n",
      "Requirement already satisfied: six>=1.5 in c:\\users\\danan\\anaconda3\\lib\\site-packages (from python-dateutil>=2.8.1->pandas->pandasql) (1.16.0)\n"
     ]
    }
   ],
   "source": [
    "#!pip install python-numexpr\n",
    "#!pip install python-pip build-essentials\n",
    "#!pip install bottleneck\n",
    "\n",
    "import pandas as pd\n",
    "!pip install pandasql\n",
    "from pandasql import sqldf"
   ]
  },
  {
   "cell_type": "markdown",
   "id": "93ce43c2",
   "metadata": {},
   "source": [
    "# Import Data Source"
   ]
  },
  {
   "cell_type": "code",
   "execution_count": null,
   "id": "4d584ff2",
   "metadata": {},
   "outputs": [],
   "source": [
    "#import dataset all\n",
    "\n",
    "df_src2 = pd.read_excel('DMSYear_All.xlsx')"
   ]
  },
  {
   "cell_type": "code",
   "execution_count": 3,
   "id": "f026023b",
   "metadata": {},
   "outputs": [],
   "source": [
    "df_src = df_src2.copy()"
   ]
  },
  {
   "cell_type": "code",
   "execution_count": 4,
   "id": "ca981c73",
   "metadata": {},
   "outputs": [
    {
     "data": {
      "text/plain": [
       "101029"
      ]
     },
     "execution_count": 4,
     "metadata": {},
     "output_type": "execute_result"
    }
   ],
   "source": [
    "# df_src.isna().sum()\n",
    "df_src = df_src.dropna(axis=0, subset=['Date'])\n",
    "df_src[df_src.columns[0]].count()"
   ]
  },
  {
   "cell_type": "code",
   "execution_count": 5,
   "id": "3ea73301",
   "metadata": {},
   "outputs": [],
   "source": [
    "# convert 2 column to one\n",
    "\n",
    "df_src['Datetime'] = pd.to_datetime(df_src.Date.astype(str) + ' ' + df_src.Time.astype(str))\n",
    "df_src['Datetime'] = df_src['Datetime'].astype('object')"
   ]
  },
  {
   "cell_type": "code",
   "execution_count": 6,
   "id": "4181ae61",
   "metadata": {},
   "outputs": [],
   "source": [
    "# rename column\n",
    "\n",
    "df_src= df_src.rename(columns={\"Vehicle\":\"Plate_Number\", \"Operator\":\"Nama_Driver\", \"Time\":\"Time2\", \"Datetime\":\"Time\",\n",
    "                               \"Shift\":\"shift\", \"Category\":\"Warning_Type\", \"Speed (Km/h)\":\"Speed\", \"SID/Code\":\"Kode_Drivers\",\n",
    "                               \"Operator\":\"Nama_Driver\", \"Latitude\":\"lat\", \"Longitude\":\"lng\", \"Media\":\"media\", \n",
    "                               \"Area\":\"Nama_Area\", \"Heading\":\"dir\"})"
   ]
  },
  {
   "cell_type": "code",
   "execution_count": 7,
   "id": "3fa66621",
   "metadata": {},
   "outputs": [
    {
     "data": {
      "text/plain": [
       "67576"
      ]
     },
     "execution_count": 7,
     "metadata": {},
     "output_type": "execute_result"
    }
   ],
   "source": [
    "# cleaning data\n",
    "\n",
    "df_src['shift'] = df_src['shift'].apply(pd.to_numeric).astype('Int64')\n",
    "df_src = df_src.dropna(axis=0, subset=['Kode_Drivers'])\n",
    "\n",
    "df_src[df_src.columns[0]].count()"
   ]
  },
  {
   "cell_type": "code",
   "execution_count": null,
   "id": "53a93ff6",
   "metadata": {},
   "outputs": [],
   "source": [
    "# cleaning duplicate data\n",
    "\n",
    "df_src.duplicated(subset=['Plate_Number', 'Time', 'Kode_Drivers', 'Warning_Type'], keep='first')\n",
    "# df_src.duplicated(subset=['PK1'])"
   ]
  },
  {
   "cell_type": "code",
   "execution_count": null,
   "id": "a2982161",
   "metadata": {},
   "outputs": [],
   "source": [
    "pd.set_option('display.max_columns', None)\n",
    "# df_final.head()\n",
    "df_src.tail()"
   ]
  },
  {
   "cell_type": "code",
   "execution_count": 9,
   "id": "922ff2b1",
   "metadata": {},
   "outputs": [
    {
     "data": {
      "text/plain": [
       "67576"
      ]
     },
     "execution_count": 9,
     "metadata": {},
     "output_type": "execute_result"
    }
   ],
   "source": [
    "# count total row\n",
    "\n",
    "# df_src = df_src.drop_duplicates(subset=['Time', 'Kode_Drivers', 'Warning_Type'], keep='first')\n",
    "df_src[df_src.columns[0]].count()"
   ]
  },
  {
   "cell_type": "code",
   "execution_count": null,
   "id": "4ce50a62",
   "metadata": {},
   "outputs": [],
   "source": [
    "# see missing value\n",
    "\n",
    "df_src.isnull().sum()"
   ]
  },
  {
   "cell_type": "markdown",
   "id": "d9e6e054",
   "metadata": {},
   "source": [
    "# Read DB Destination"
   ]
  },
  {
   "cell_type": "code",
   "execution_count": 12,
   "id": "3d1ea246",
   "metadata": {},
   "outputs": [
    {
     "name": "stdout",
     "output_type": "stream",
     "text": [
      "Connected\n"
     ]
    }
   ],
   "source": [
    "import mysql.connector\n",
    "import pandas as pd\n",
    "\n",
    "\n",
    "# read db destination\n",
    "\n",
    "mydb = mysql.connector.connect(\n",
    "    host= '#YOURHOST',\n",
    "    port= #YOURPORT,\n",
    "    user= '#YOURUSER',\n",
    "    password= '#YOURPASSWORD',\n",
    "    database=\"#YOURDATABASE\"\"\n",
    ")\n",
    "if mydb.is_connected():\n",
    "    print(\"Connected\")"
   ]
  },
  {
   "cell_type": "code",
   "execution_count": null,
   "id": "8a78004f",
   "metadata": {},
   "outputs": [],
   "source": [
    "# Open data destination MySQL\n",
    "\n",
    "mycursor_dst = mydb.cursor()\n",
    "data_dst = pd.read_sql_query(\"select * from dms2.DMS_Backup\", con=mydb)"
   ]
  },
  {
   "cell_type": "code",
   "execution_count": 25,
   "id": "85575932",
   "metadata": {},
   "outputs": [],
   "source": [
    "# delete missing value\n",
    "\n",
    "data_dst = data_dst.dropna(axis=0, subset=['Kode_Drivers'])"
   ]
  },
  {
   "cell_type": "code",
   "execution_count": null,
   "id": "835a8f91",
   "metadata": {},
   "outputs": [],
   "source": [
    "# see missing value\n",
    "\n",
    "data_dst.isnull().sum()"
   ]
  },
  {
   "cell_type": "code",
   "execution_count": 27,
   "id": "7003971a",
   "metadata": {},
   "outputs": [
    {
     "data": {
      "text/plain": [
       "73284"
      ]
     },
     "execution_count": 27,
     "metadata": {},
     "output_type": "execute_result"
    }
   ],
   "source": [
    "# count total row\n",
    "\n",
    "data_dst[data_dst.columns[0]].count()"
   ]
  },
  {
   "cell_type": "markdown",
   "id": "7d245622",
   "metadata": {},
   "source": [
    "# Append Data source to Database Destination"
   ]
  },
  {
   "cell_type": "code",
   "execution_count": 28,
   "id": "e9194616",
   "metadata": {},
   "outputs": [
    {
     "data": {
      "text/plain": [
       "140860"
      ]
     },
     "execution_count": 28,
     "metadata": {},
     "output_type": "execute_result"
    }
   ],
   "source": [
    "# Select data\n",
    "\n",
    "df1 = pd.DataFrame(df_src, columns= ['Plate_Number', 'Time', 'shift', 'Warning_Type', 'Speed', 'Nama_Area', 'Kode_Drivers', \n",
    "                                  'Nama_Driver', 'media'])\n",
    "df2 = pd.DataFrame(data_dst, columns= ['Plate_Number', 'Time', 'shift', 'Warning_Type', 'Speed', 'Nama_Area', 'Kode_Drivers', \n",
    "                                  'Nama_Driver', 'media'])\n",
    "\n",
    "df_final = pd.concat([df1, df2], ignore_index=True)\n",
    "df_final[df_final.columns[0]].count()"
   ]
  },
  {
   "cell_type": "code",
   "execution_count": 29,
   "id": "93428045",
   "metadata": {},
   "outputs": [
    {
     "data": {
      "text/plain": [
       "77613"
      ]
     },
     "execution_count": 29,
     "metadata": {},
     "output_type": "execute_result"
    }
   ],
   "source": [
    "# Drop duplicate\n",
    "\n",
    "df_final = df_final.drop_duplicates(subset=['Plate_Number', 'Time', 'Kode_Drivers', 'Warning_Type'], keep='first')\n",
    "# df = df.drop_duplicates()\n",
    "\n",
    "df_final[df_final.columns[0]].count()"
   ]
  },
  {
   "cell_type": "code",
   "execution_count": null,
   "id": "395a9d5d",
   "metadata": {},
   "outputs": [],
   "source": [
    "# read all column\n",
    "\n",
    "pd.set_option('display.max_columns', None)\n",
    "# df_final.head()\n",
    "df_final"
   ]
  },
  {
   "cell_type": "code",
   "execution_count": null,
   "id": "f075460e",
   "metadata": {},
   "outputs": [],
   "source": [
    "# cleaning data\n",
    "\n",
    "# column = ['ID', 'acc', 'id_warning_type', 'flag_alarm']\n",
    "# for i in column:\n",
    "#     df[i] = df[i].astype('object')\n",
    "\n",
    "df_src['shift'] = df_src['shift'].astype('object')\n",
    "df_src = df_src.astype(object).where(pd.notnull(df_src), None)\n",
    "df_src.info()"
   ]
  },
  {
   "cell_type": "code",
   "execution_count": 33,
   "id": "2f56d2d9",
   "metadata": {},
   "outputs": [],
   "source": [
    "# delete null value\n",
    "\n",
    "df_final = df_final.fillna(0)"
   ]
  },
  {
   "cell_type": "code",
   "execution_count": null,
   "id": "d3e40e94",
   "metadata": {},
   "outputs": [],
   "source": [
    "# see missing value \n",
    "\n",
    "df_final.isnull().sum()"
   ]
  },
  {
   "cell_type": "code",
   "execution_count": null,
   "id": "3954a761",
   "metadata": {},
   "outputs": [],
   "source": [
    "# DANGERR!!!!!\n",
    "# insert data to mySQL Database\n",
    "\n",
    "mycursor= db_dst.cursor()\n",
    "\n",
    "sql = \"INSERT INTO dms_backup.db_all_mitra_all(Plate_Number, Time, shift, Warning_Type, Speed, Nama_Area, Kode_Drivers, Nama_Driver, media) VALUES (%s,%s,%s,%s,%s,%s,%s,%s,%s)\"\n",
    "\n",
    "for i in range(0,len(df_src)):\n",
    "    val=((df_final['Plate_Number'][i]),(df_final['Time'][i]),(df_final['shift'][i]),(df_final['Warning_Type'][i]),(df_final['Speed'][i]),(df_final['Nama_Area'][i]),(df_final['Kode_Drivers'][i]),(df_final['Nama_Driver'][i]),(df_final['media'][i]))\n",
    "    #(val)\n",
    "    mycursor.execute(sql,val)\n",
    "    \n",
    "    db_dst.commit()\n",
    "\n",
    "print(mycursor.rowcount, \"was inserted.\")"
   ]
  }
 ],
 "metadata": {
  "kernelspec": {
   "display_name": "Python 3 (ipykernel)",
   "language": "python",
   "name": "python3"
  },
  "language_info": {
   "codemirror_mode": {
    "name": "ipython",
    "version": 3
   },
   "file_extension": ".py",
   "mimetype": "text/x-python",
   "name": "python",
   "nbconvert_exporter": "python",
   "pygments_lexer": "ipython3",
   "version": "3.9.12"
  }
 },
 "nbformat": 4,
 "nbformat_minor": 5
}
