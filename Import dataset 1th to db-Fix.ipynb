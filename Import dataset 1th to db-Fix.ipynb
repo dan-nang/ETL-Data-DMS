{
 "cells": [
  {
   "cell_type": "code",
   "execution_count": 1,
   "id": "27dc4c4d",
   "metadata": {},
   "outputs": [
    {
     "name": "stdout",
     "output_type": "stream",
     "text": [
      "Requirement already satisfied: pandasql in c:\\users\\danan\\anaconda3\\lib\\site-packages (0.7.3)\n",
      "Requirement already satisfied: numpy in c:\\users\\danan\\anaconda3\\lib\\site-packages (from pandasql) (1.22.4)\n",
      "Requirement already satisfied: pandas in c:\\users\\danan\\anaconda3\\lib\\site-packages (from pandasql) (1.4.2)\n",
      "Requirement already satisfied: sqlalchemy in c:\\users\\danan\\anaconda3\\lib\\site-packages (from pandasql) (1.4.37)\n",
      "Requirement already satisfied: python-dateutil>=2.8.1 in c:\\users\\danan\\anaconda3\\lib\\site-packages (from pandas->pandasql) (2.8.2)\n",
      "Requirement already satisfied: pytz>=2020.1 in c:\\users\\danan\\anaconda3\\lib\\site-packages (from pandas->pandasql) (2021.3)\n",
      "Requirement already satisfied: greenlet!=0.4.17 in c:\\users\\danan\\anaconda3\\lib\\site-packages (from sqlalchemy->pandasql) (1.1.2)\n",
      "Requirement already satisfied: six>=1.5 in c:\\users\\danan\\anaconda3\\lib\\site-packages (from python-dateutil>=2.8.1->pandas->pandasql) (1.16.0)\n"
     ]
    }
   ],
   "source": [
    "#!pip install python-numexpr\n",
    "#!pip install python-pip build-essentials\n",
    "#!pip install bottleneck\n",
    "\n",
    "import pandas as pd\n",
    "!pip install pandasql\n",
    "from pandasql import sqldf"
   ]
  },
  {
   "cell_type": "markdown",
   "id": "93ce43c2",
   "metadata": {},
   "source": [
    "# Import Data Source"
   ]
  },
  {
   "cell_type": "code",
   "execution_count": 2,
   "id": "c38a567b",
   "metadata": {},
   "outputs": [
    {
     "name": "stderr",
     "output_type": "stream",
     "text": [
      "C:\\Users\\danan\\AppData\\Local\\Temp\\ipykernel_11676\\152582178.py:3: FutureWarning: Inferring datetime64[ns] from data containing strings is deprecated and will be removed in a future version. To retain the old behavior explicitly pass Series(data, dtype=datetime64[ns])\n",
      "  df_src2 = pd.read_excel('DMSYear_All.xlsx')\n"
     ]
    }
   ],
   "source": [
    "#import dataset all\n",
    "\n",
    "df_src2 = pd.read_excel('DMSYear_All.xlsx')"
   ]
  },
  {
   "cell_type": "code",
   "execution_count": 3,
   "id": "f026023b",
   "metadata": {},
   "outputs": [],
   "source": [
    "df_src = df_src2.copy()"
   ]
  },
  {
   "cell_type": "code",
   "execution_count": 4,
   "id": "ca981c73",
   "metadata": {},
   "outputs": [
    {
     "data": {
      "text/plain": [
       "101029"
      ]
     },
     "execution_count": 4,
     "metadata": {},
     "output_type": "execute_result"
    }
   ],
   "source": [
    "# df_src.isna().sum()\n",
    "df_src = df_src.dropna(axis=0, subset=['Date'])\n",
    "df_src[df_src.columns[0]].count()"
   ]
  },
  {
   "cell_type": "code",
   "execution_count": 5,
   "id": "3ea73301",
   "metadata": {},
   "outputs": [],
   "source": [
    "# convert 2 column to one\n",
    "\n",
    "df_src['Datetime'] = pd.to_datetime(df_src.Date.astype(str) + ' ' + df_src.Time.astype(str))\n",
    "df_src['Datetime'] = df_src['Datetime'].astype('object')"
   ]
  },
  {
   "cell_type": "code",
   "execution_count": 6,
   "id": "4181ae61",
   "metadata": {},
   "outputs": [],
   "source": [
    "# rename column\n",
    "\n",
    "df_src= df_src.rename(columns={\"Vehicle\":\"Plate_Number\", \"Operator\":\"Nama_Driver\", \"Time\":\"Time2\", \"Datetime\":\"Time\",\n",
    "                               \"Shift\":\"shift\", \"Category\":\"Warning_Type\", \"Speed (Km/h)\":\"Speed\", \"SID/Code\":\"Kode_Drivers\",\n",
    "                               \"Operator\":\"Nama_Driver\", \"Latitude\":\"lat\", \"Longitude\":\"lng\", \"Media\":\"media\", \n",
    "                               \"Area\":\"Nama_Area\", \"Heading\":\"dir\"})"
   ]
  },
  {
   "cell_type": "code",
   "execution_count": 7,
   "id": "3fa66621",
   "metadata": {},
   "outputs": [
    {
     "data": {
      "text/plain": [
       "67576"
      ]
     },
     "execution_count": 7,
     "metadata": {},
     "output_type": "execute_result"
    }
   ],
   "source": [
    "# cleaning data\n",
    "\n",
    "df_src['shift'] = df_src['shift'].apply(pd.to_numeric).astype('Int64')\n",
    "df_src = df_src.dropna(axis=0, subset=['Kode_Drivers'])\n",
    "\n",
    "df_src[df_src.columns[0]].count()"
   ]
  },
  {
   "cell_type": "code",
   "execution_count": 8,
   "id": "d635d068",
   "metadata": {},
   "outputs": [
    {
     "data": {
      "text/plain": [
       "5         False\n",
       "6         False\n",
       "7         False\n",
       "8         False\n",
       "9         False\n",
       "          ...  \n",
       "101031     True\n",
       "101032     True\n",
       "101033     True\n",
       "101034     True\n",
       "101035     True\n",
       "Length: 67576, dtype: bool"
      ]
     },
     "execution_count": 8,
     "metadata": {},
     "output_type": "execute_result"
    }
   ],
   "source": [
    "# cleaning duplicate data\n",
    "\n",
    "df_src.duplicated(subset=['Plate_Number', 'Time', 'Kode_Drivers', 'Warning_Type'], keep='first')\n",
    "# df_src.duplicated(subset=['PK1'])"
   ]
  },
  {
   "cell_type": "code",
   "execution_count": 10,
   "id": "626e82e7",
   "metadata": {
    "collapsed": true
   },
   "outputs": [
    {
     "data": {
      "text/html": [
       "<div>\n",
       "<style scoped>\n",
       "    .dataframe tbody tr th:only-of-type {\n",
       "        vertical-align: middle;\n",
       "    }\n",
       "\n",
       "    .dataframe tbody tr th {\n",
       "        vertical-align: top;\n",
       "    }\n",
       "\n",
       "    .dataframe thead th {\n",
       "        text-align: right;\n",
       "    }\n",
       "</style>\n",
       "<table border=\"1\" class=\"dataframe\">\n",
       "  <thead>\n",
       "    <tr style=\"text-align: right;\">\n",
       "      <th></th>\n",
       "      <th>NO</th>\n",
       "      <th>Plate_Number</th>\n",
       "      <th>Nama_Driver</th>\n",
       "      <th>Kode_Drivers</th>\n",
       "      <th>Count Day/Night</th>\n",
       "      <th>shift</th>\n",
       "      <th>Date</th>\n",
       "      <th>Time2</th>\n",
       "      <th>Condition</th>\n",
       "      <th>Warning_Type</th>\n",
       "      <th>Subject</th>\n",
       "      <th>Nama_Area</th>\n",
       "      <th>lat</th>\n",
       "      <th>lng</th>\n",
       "      <th>dir</th>\n",
       "      <th>Speed</th>\n",
       "      <th>Limit Speed(Km/h)</th>\n",
       "      <th>Category.1</th>\n",
       "      <th>Status Data</th>\n",
       "      <th>Filtered By</th>\n",
       "      <th>Filter Note</th>\n",
       "      <th>Intervented By</th>\n",
       "      <th>Closing Date</th>\n",
       "      <th>Intervention Note</th>\n",
       "      <th>media</th>\n",
       "      <th>Time</th>\n",
       "    </tr>\n",
       "  </thead>\n",
       "  <tbody>\n",
       "    <tr>\n",
       "      <th>101031</th>\n",
       "      <td>1536.0</td>\n",
       "      <td>PM-5812</td>\n",
       "      <td>Jayan Nainggolan</td>\n",
       "      <td>0XBFB</td>\n",
       "      <td>N5</td>\n",
       "      <td>2</td>\n",
       "      <td>2022-06-07</td>\n",
       "      <td>05:13:15</td>\n",
       "      <td>kosongan</td>\n",
       "      <td>Driving Behavior</td>\n",
       "      <td>Left and Right Look</td>\n",
       "      <td>KM 16400</td>\n",
       "      <td>2° 0′ 30.5820″ N</td>\n",
       "      <td>117° 35′ 13.7292″ E</td>\n",
       "      <td>263.6°(W)</td>\n",
       "      <td>59.00</td>\n",
       "      <td>60.0</td>\n",
       "      <td>NaN</td>\n",
       "      <td>True</td>\n",
       "      <td>NaN</td>\n",
       "      <td>NaN</td>\n",
       "      <td>Handoko Prihandono</td>\n",
       "      <td>2022-06-07 05:14:40</td>\n",
       "      <td>Komunikasi 2 arah</td>\n",
       "      <td>https://singapore.jmadas.com/jmftp/device/3543...</td>\n",
       "      <td>2022-06-07 05:13:15</td>\n",
       "    </tr>\n",
       "    <tr>\n",
       "      <th>101032</th>\n",
       "      <td>1537.0</td>\n",
       "      <td>PM-5812</td>\n",
       "      <td>Jayan Nainggolan</td>\n",
       "      <td>0XBFB</td>\n",
       "      <td>N5</td>\n",
       "      <td>2</td>\n",
       "      <td>2022-06-07</td>\n",
       "      <td>05:16:48</td>\n",
       "      <td>kosongan</td>\n",
       "      <td>Driving Behavior</td>\n",
       "      <td>Left and Right Look</td>\n",
       "      <td>KM 13050</td>\n",
       "      <td>2° 0′ 30.0348″ N</td>\n",
       "      <td>117° 33′ 26.2188″ E</td>\n",
       "      <td>282.55°(W)</td>\n",
       "      <td>51.00</td>\n",
       "      <td>60.0</td>\n",
       "      <td>NaN</td>\n",
       "      <td>True</td>\n",
       "      <td>NaN</td>\n",
       "      <td>NaN</td>\n",
       "      <td>Handoko Prihandono</td>\n",
       "      <td>2022-06-07 05:17:40</td>\n",
       "      <td>Komunikasi 2 arah</td>\n",
       "      <td>https://singapore.jmadas.com/jmftp/device/3543...</td>\n",
       "      <td>2022-06-07 05:16:48</td>\n",
       "    </tr>\n",
       "    <tr>\n",
       "      <th>101033</th>\n",
       "      <td>1538.0</td>\n",
       "      <td>PM-5812</td>\n",
       "      <td>Marthinus Ponde</td>\n",
       "      <td>1Y6NB</td>\n",
       "      <td>D2</td>\n",
       "      <td>1</td>\n",
       "      <td>2022-06-07</td>\n",
       "      <td>10:56:48</td>\n",
       "      <td>muatan</td>\n",
       "      <td>Overspeed</td>\n",
       "      <td>Overspeed</td>\n",
       "      <td>KM 3300</td>\n",
       "      <td>2° 1′ 46.4232″ N</td>\n",
       "      <td>117° 28′ 38.8128″ E</td>\n",
       "      <td>106.5°(E)</td>\n",
       "      <td>39.85</td>\n",
       "      <td>30.0</td>\n",
       "      <td>B</td>\n",
       "      <td>True</td>\n",
       "      <td>NaN</td>\n",
       "      <td>NaN</td>\n",
       "      <td>Dwi Norachmad</td>\n",
       "      <td>2022-06-07 11:02:39</td>\n",
       "      <td>Komunikasi 2 arah</td>\n",
       "      <td>NaN</td>\n",
       "      <td>2022-06-07 10:56:48</td>\n",
       "    </tr>\n",
       "    <tr>\n",
       "      <th>101034</th>\n",
       "      <td>1539.0</td>\n",
       "      <td>PM-5812</td>\n",
       "      <td>Marthinus Ponde</td>\n",
       "      <td>1Y6NB</td>\n",
       "      <td>D3</td>\n",
       "      <td>1</td>\n",
       "      <td>2022-06-08</td>\n",
       "      <td>08:35:37</td>\n",
       "      <td>muatan</td>\n",
       "      <td>Overspeed</td>\n",
       "      <td>Overspeed</td>\n",
       "      <td>KM 3300</td>\n",
       "      <td>2° 1′ 46.4520″ N</td>\n",
       "      <td>117° 28′ 38.3268″ E</td>\n",
       "      <td>104.3°(E)</td>\n",
       "      <td>35.32</td>\n",
       "      <td>30.0</td>\n",
       "      <td>B</td>\n",
       "      <td>True</td>\n",
       "      <td>NaN</td>\n",
       "      <td>NaN</td>\n",
       "      <td>Dwi Norachmad</td>\n",
       "      <td>2022-06-08 08:37:11</td>\n",
       "      <td>Mengingatkan untuk menyesuaikan kecepatan dan ...</td>\n",
       "      <td>NaN</td>\n",
       "      <td>2022-06-08 08:35:37</td>\n",
       "    </tr>\n",
       "    <tr>\n",
       "      <th>101035</th>\n",
       "      <td>1540.0</td>\n",
       "      <td>PM-5812</td>\n",
       "      <td>Tansil</td>\n",
       "      <td>8SNBA</td>\n",
       "      <td>N3</td>\n",
       "      <td>2</td>\n",
       "      <td>2022-06-08</td>\n",
       "      <td>23:19:11</td>\n",
       "      <td>muatan</td>\n",
       "      <td>Overspeed</td>\n",
       "      <td>Overspeed</td>\n",
       "      <td>KM 7050</td>\n",
       "      <td>2° 1′ 16.9572″ N</td>\n",
       "      <td>117° 30′ 29.1528″ E</td>\n",
       "      <td>97.66°(E)</td>\n",
       "      <td>55.94</td>\n",
       "      <td>50.0</td>\n",
       "      <td>B</td>\n",
       "      <td>True</td>\n",
       "      <td>NaN</td>\n",
       "      <td>NaN</td>\n",
       "      <td>Andik</td>\n",
       "      <td>2022-06-08 23:20:42</td>\n",
       "      <td>Mengingatkan untuk menyesuaikan kecepatan dan ...</td>\n",
       "      <td>NaN</td>\n",
       "      <td>2022-06-08 23:19:11</td>\n",
       "    </tr>\n",
       "  </tbody>\n",
       "</table>\n",
       "</div>"
      ],
      "text/plain": [
       "            NO Plate_Number       Nama_Driver Kode_Drivers Count Day/Night  \\\n",
       "101031  1536.0      PM-5812  Jayan Nainggolan        0XBFB              N5   \n",
       "101032  1537.0      PM-5812  Jayan Nainggolan        0XBFB              N5   \n",
       "101033  1538.0      PM-5812   Marthinus Ponde        1Y6NB              D2   \n",
       "101034  1539.0      PM-5812   Marthinus Ponde        1Y6NB              D3   \n",
       "101035  1540.0      PM-5812            Tansil        8SNBA              N3   \n",
       "\n",
       "        shift       Date     Time2 Condition      Warning_Type  \\\n",
       "101031      2 2022-06-07  05:13:15  kosongan  Driving Behavior   \n",
       "101032      2 2022-06-07  05:16:48  kosongan  Driving Behavior   \n",
       "101033      1 2022-06-07  10:56:48    muatan         Overspeed   \n",
       "101034      1 2022-06-08  08:35:37    muatan         Overspeed   \n",
       "101035      2 2022-06-08  23:19:11    muatan         Overspeed   \n",
       "\n",
       "                    Subject Nama_Area               lat                  lng  \\\n",
       "101031  Left and Right Look  KM 16400  2° 0′ 30.5820″ N  117° 35′ 13.7292″ E   \n",
       "101032  Left and Right Look  KM 13050  2° 0′ 30.0348″ N  117° 33′ 26.2188″ E   \n",
       "101033            Overspeed   KM 3300  2° 1′ 46.4232″ N  117° 28′ 38.8128″ E   \n",
       "101034            Overspeed   KM 3300  2° 1′ 46.4520″ N  117° 28′ 38.3268″ E   \n",
       "101035            Overspeed   KM 7050  2° 1′ 16.9572″ N  117° 30′ 29.1528″ E   \n",
       "\n",
       "               dir  Speed  Limit Speed(Km/h) Category.1 Status Data  \\\n",
       "101031   263.6°(W)  59.00               60.0        NaN        True   \n",
       "101032  282.55°(W)  51.00               60.0        NaN        True   \n",
       "101033   106.5°(E)  39.85               30.0          B        True   \n",
       "101034   104.3°(E)  35.32               30.0          B        True   \n",
       "101035   97.66°(E)  55.94               50.0          B        True   \n",
       "\n",
       "       Filtered By Filter Note      Intervented By         Closing Date  \\\n",
       "101031         NaN         NaN  Handoko Prihandono  2022-06-07 05:14:40   \n",
       "101032         NaN         NaN  Handoko Prihandono  2022-06-07 05:17:40   \n",
       "101033         NaN         NaN       Dwi Norachmad  2022-06-07 11:02:39   \n",
       "101034         NaN         NaN       Dwi Norachmad  2022-06-08 08:37:11   \n",
       "101035         NaN         NaN               Andik  2022-06-08 23:20:42   \n",
       "\n",
       "                                        Intervention Note  \\\n",
       "101031                                  Komunikasi 2 arah   \n",
       "101032                                  Komunikasi 2 arah   \n",
       "101033                                  Komunikasi 2 arah   \n",
       "101034  Mengingatkan untuk menyesuaikan kecepatan dan ...   \n",
       "101035  Mengingatkan untuk menyesuaikan kecepatan dan ...   \n",
       "\n",
       "                                                    media                 Time  \n",
       "101031  https://singapore.jmadas.com/jmftp/device/3543...  2022-06-07 05:13:15  \n",
       "101032  https://singapore.jmadas.com/jmftp/device/3543...  2022-06-07 05:16:48  \n",
       "101033                                                NaN  2022-06-07 10:56:48  \n",
       "101034                                                NaN  2022-06-08 08:35:37  \n",
       "101035                                                NaN  2022-06-08 23:19:11  "
      ]
     },
     "execution_count": 10,
     "metadata": {},
     "output_type": "execute_result"
    }
   ],
   "source": [
    "pd.set_option('display.max_columns', None)\n",
    "# df_final.head()\n",
    "df_src.tail()"
   ]
  },
  {
   "cell_type": "code",
   "execution_count": 9,
   "id": "922ff2b1",
   "metadata": {},
   "outputs": [
    {
     "data": {
      "text/plain": [
       "67576"
      ]
     },
     "execution_count": 9,
     "metadata": {},
     "output_type": "execute_result"
    }
   ],
   "source": [
    "# count total row\n",
    "\n",
    "# df_src = df_src.drop_duplicates(subset=['Time', 'Kode_Drivers', 'Warning_Type'], keep='first')\n",
    "df_src[df_src.columns[0]].count()"
   ]
  },
  {
   "cell_type": "code",
   "execution_count": 10,
   "id": "7307aed9",
   "metadata": {},
   "outputs": [
    {
     "data": {
      "text/plain": [
       "NO                       0\n",
       "Plate_Number             0\n",
       "Nama_Driver              0\n",
       "Kode_Drivers             0\n",
       "Count Day/Night      22696\n",
       "shift                    0\n",
       "Date                     0\n",
       "Time2                    0\n",
       "Condition              318\n",
       "Warning_Type             0\n",
       "Subject                  0\n",
       "Nama_Area             3468\n",
       "lat                      0\n",
       "lng                      0\n",
       "dir                      0\n",
       "Speed                    0\n",
       "Limit Speed(Km/h)        0\n",
       "Category.1           55932\n",
       "Status Data              0\n",
       "Filtered By          66619\n",
       "Filter Note          63284\n",
       "Intervented By       54268\n",
       "Closing Date             0\n",
       "Intervention Note    54270\n",
       "media                12589\n",
       "Time                     0\n",
       "dtype: int64"
      ]
     },
     "execution_count": 10,
     "metadata": {},
     "output_type": "execute_result"
    }
   ],
   "source": [
    "# see missing value\n",
    "\n",
    "df_src.isnull().sum()"
   ]
  },
  {
   "cell_type": "markdown",
   "id": "d9e6e054",
   "metadata": {},
   "source": [
    "# Read DB Destination"
   ]
  },
  {
   "cell_type": "code",
   "execution_count": 12,
   "id": "3d1ea246",
   "metadata": {},
   "outputs": [
    {
     "name": "stdout",
     "output_type": "stream",
     "text": [
      "Connected\n"
     ]
    }
   ],
   "source": [
    "import mysql.connector\n",
    "import pandas as pd\n",
    "\n",
    "\n",
    "# read db destination\n",
    "\n",
    "mydb = mysql.connector.connect(\n",
    "    host= '10.10.10.196',\n",
    "    port= 33061,\n",
    "    user= 'root',\n",
    "    password= 'masterroot',\n",
    "    database=\"dms\"\n",
    ")\n",
    "if mydb.is_connected():\n",
    "    print(\"Connected\")"
   ]
  },
  {
   "cell_type": "code",
   "execution_count": 13,
   "id": "7aae1a0a",
   "metadata": {},
   "outputs": [
    {
     "name": "stderr",
     "output_type": "stream",
     "text": [
      "C:\\Users\\danan\\anaconda3\\lib\\site-packages\\pandas\\io\\sql.py:761: UserWarning: pandas only support SQLAlchemy connectable(engine/connection) ordatabase string URI or sqlite3 DBAPI2 connectionother DBAPI2 objects are not tested, please consider using SQLAlchemy\n",
      "  warnings.warn(\n"
     ]
    }
   ],
   "source": [
    "# Open data destination MySQL\n",
    "\n",
    "mycursor_dst = mydb.cursor()\n",
    "data_dst = pd.read_sql_query(\"select * from dms2.DMS_Backup\", con=mydb)"
   ]
  },
  {
   "cell_type": "code",
   "execution_count": 25,
   "id": "85575932",
   "metadata": {},
   "outputs": [],
   "source": [
    "# delete missing value\n",
    "\n",
    "data_dst = data_dst.dropna(axis=0, subset=['Kode_Drivers'])"
   ]
  },
  {
   "cell_type": "code",
   "execution_count": 26,
   "id": "d9e3450e",
   "metadata": {
    "collapsed": true
   },
   "outputs": [
    {
     "data": {
      "text/plain": [
       "ID                     0\n",
       "Plate_Number           0\n",
       "Device_ID              0\n",
       "Time                   0\n",
       "shift                  0\n",
       "Mitra              58732\n",
       "Warning_Type           0\n",
       "Speed                  0\n",
       "Nama_Area           3337\n",
       "Kode_Drivers           0\n",
       "Nama_Driver         5707\n",
       "dir                    0\n",
       "lat                    0\n",
       "lng                    0\n",
       "acc                58732\n",
       "altitude           58732\n",
       "media              12922\n",
       "id_warning_type    58732\n",
       "kode_driver        59372\n",
       "flag_alarm         58732\n",
       "DN                 64441\n",
       "dtype: int64"
      ]
     },
     "execution_count": 26,
     "metadata": {},
     "output_type": "execute_result"
    }
   ],
   "source": [
    "# see missing value\n",
    "\n",
    "data_dst.isnull().sum()"
   ]
  },
  {
   "cell_type": "code",
   "execution_count": 27,
   "id": "7003971a",
   "metadata": {},
   "outputs": [
    {
     "data": {
      "text/plain": [
       "73284"
      ]
     },
     "execution_count": 27,
     "metadata": {},
     "output_type": "execute_result"
    }
   ],
   "source": [
    "# count total row\n",
    "\n",
    "data_dst[data_dst.columns[0]].count()"
   ]
  },
  {
   "cell_type": "markdown",
   "id": "7d245622",
   "metadata": {},
   "source": [
    "# Append Data source to Database Destination"
   ]
  },
  {
   "cell_type": "code",
   "execution_count": 28,
   "id": "e9194616",
   "metadata": {},
   "outputs": [
    {
     "data": {
      "text/plain": [
       "140860"
      ]
     },
     "execution_count": 28,
     "metadata": {},
     "output_type": "execute_result"
    }
   ],
   "source": [
    "# Select data\n",
    "\n",
    "df1 = pd.DataFrame(df_src, columns= ['Plate_Number', 'Time', 'shift', 'Warning_Type', 'Speed', 'Nama_Area', 'Kode_Drivers', \n",
    "                                  'Nama_Driver', 'media'])\n",
    "df2 = pd.DataFrame(data_dst, columns= ['Plate_Number', 'Time', 'shift', 'Warning_Type', 'Speed', 'Nama_Area', 'Kode_Drivers', \n",
    "                                  'Nama_Driver', 'media'])\n",
    "\n",
    "df_final = pd.concat([df1, df2], ignore_index=True)\n",
    "df_final[df_final.columns[0]].count()"
   ]
  },
  {
   "cell_type": "code",
   "execution_count": 29,
   "id": "93428045",
   "metadata": {},
   "outputs": [
    {
     "data": {
      "text/plain": [
       "77613"
      ]
     },
     "execution_count": 29,
     "metadata": {},
     "output_type": "execute_result"
    }
   ],
   "source": [
    "# Drop duplicate\n",
    "\n",
    "df_final = df_final.drop_duplicates(subset=['Plate_Number', 'Time', 'Kode_Drivers', 'Warning_Type'], keep='first')\n",
    "# df = df.drop_duplicates()\n",
    "\n",
    "df_final[df_final.columns[0]].count()"
   ]
  },
  {
   "cell_type": "code",
   "execution_count": 18,
   "id": "20cb372c",
   "metadata": {},
   "outputs": [
    {
     "data": {
      "text/html": [
       "<div>\n",
       "<style scoped>\n",
       "    .dataframe tbody tr th:only-of-type {\n",
       "        vertical-align: middle;\n",
       "    }\n",
       "\n",
       "    .dataframe tbody tr th {\n",
       "        vertical-align: top;\n",
       "    }\n",
       "\n",
       "    .dataframe thead th {\n",
       "        text-align: right;\n",
       "    }\n",
       "</style>\n",
       "<table border=\"1\" class=\"dataframe\">\n",
       "  <thead>\n",
       "    <tr style=\"text-align: right;\">\n",
       "      <th></th>\n",
       "      <th>Plate_Number</th>\n",
       "      <th>Time</th>\n",
       "      <th>shift</th>\n",
       "      <th>Warning_Type</th>\n",
       "      <th>Speed</th>\n",
       "      <th>Nama_Area</th>\n",
       "      <th>Kode_Drivers</th>\n",
       "      <th>Nama_Driver</th>\n",
       "      <th>media</th>\n",
       "    </tr>\n",
       "  </thead>\n",
       "  <tbody>\n",
       "    <tr>\n",
       "      <th>0</th>\n",
       "      <td>PM-5804</td>\n",
       "      <td>2021-05-12 09:38:45</td>\n",
       "      <td>1</td>\n",
       "      <td>Driving Behavior</td>\n",
       "      <td>50.00</td>\n",
       "      <td>KM 6000</td>\n",
       "      <td>7B3OW</td>\n",
       "      <td>Udiansyah</td>\n",
       "      <td>NaN</td>\n",
       "    </tr>\n",
       "    <tr>\n",
       "      <th>1</th>\n",
       "      <td>PM-5804</td>\n",
       "      <td>2021-05-12 10:05:30</td>\n",
       "      <td>1</td>\n",
       "      <td>Overspeed</td>\n",
       "      <td>58.50</td>\n",
       "      <td>KM 6000</td>\n",
       "      <td>7B3OW</td>\n",
       "      <td>Udiansyah</td>\n",
       "      <td>NaN</td>\n",
       "    </tr>\n",
       "    <tr>\n",
       "      <th>2</th>\n",
       "      <td>PM-5804</td>\n",
       "      <td>2021-05-12 10:12:56</td>\n",
       "      <td>1</td>\n",
       "      <td>Driving Behavior</td>\n",
       "      <td>51.00</td>\n",
       "      <td>KM 4900</td>\n",
       "      <td>7B3OW</td>\n",
       "      <td>Udiansyah</td>\n",
       "      <td>https://singapore.jmadas.com/jmftp/device/3543...</td>\n",
       "    </tr>\n",
       "    <tr>\n",
       "      <th>3</th>\n",
       "      <td>PM-5804</td>\n",
       "      <td>2021-05-12 12:26:33</td>\n",
       "      <td>1</td>\n",
       "      <td>Overspeed</td>\n",
       "      <td>55.87</td>\n",
       "      <td>KM 12800</td>\n",
       "      <td>7B3OW</td>\n",
       "      <td>Udiansyah</td>\n",
       "      <td>NaN</td>\n",
       "    </tr>\n",
       "    <tr>\n",
       "      <th>4</th>\n",
       "      <td>PM-5804</td>\n",
       "      <td>2021-05-12 12:54:10</td>\n",
       "      <td>1</td>\n",
       "      <td>Driving Behavior</td>\n",
       "      <td>51.00</td>\n",
       "      <td>KM 5700</td>\n",
       "      <td>7B3OW</td>\n",
       "      <td>Udiansyah</td>\n",
       "      <td>NaN</td>\n",
       "    </tr>\n",
       "    <tr>\n",
       "      <th>...</th>\n",
       "      <td>...</td>\n",
       "      <td>...</td>\n",
       "      <td>...</td>\n",
       "      <td>...</td>\n",
       "      <td>...</td>\n",
       "      <td>...</td>\n",
       "      <td>...</td>\n",
       "      <td>...</td>\n",
       "      <td>...</td>\n",
       "    </tr>\n",
       "    <tr>\n",
       "      <th>90913</th>\n",
       "      <td>DTH-008</td>\n",
       "      <td>2022-06-10 07:08:58</td>\n",
       "      <td>1</td>\n",
       "      <td>Pedestrian Detection Warning</td>\n",
       "      <td>29.00</td>\n",
       "      <td>KM 10000</td>\n",
       "      <td>WQ4C4</td>\n",
       "      <td>ASMANG</td>\n",
       "      <td>https://singapore.jmadas.com/jmftp/device/3543...</td>\n",
       "    </tr>\n",
       "    <tr>\n",
       "      <th>90914</th>\n",
       "      <td>PAMA-1585</td>\n",
       "      <td>2022-06-07 08:58:23</td>\n",
       "      <td>1</td>\n",
       "      <td>Front Vehicle Collision</td>\n",
       "      <td>45.00</td>\n",
       "      <td>KM 21000</td>\n",
       "      <td>4L0AQ</td>\n",
       "      <td>SULISTYONO DWI YULIANTO</td>\n",
       "      <td>https://singapore.jmadas.com/jmftp/device/3543...</td>\n",
       "    </tr>\n",
       "    <tr>\n",
       "      <th>90915</th>\n",
       "      <td>PAMA-1585</td>\n",
       "      <td>2022-06-08 03:59:20</td>\n",
       "      <td>2</td>\n",
       "      <td>Yawning</td>\n",
       "      <td>30.00</td>\n",
       "      <td></td>\n",
       "      <td>CW78Z</td>\n",
       "      <td>DWI AGUS SUCHAYO</td>\n",
       "      <td>https://singapore.jmadas.com/jmftp/device/3543...</td>\n",
       "    </tr>\n",
       "    <tr>\n",
       "      <th>90916</th>\n",
       "      <td>PAMA-1585</td>\n",
       "      <td>2022-06-08 07:28:02</td>\n",
       "      <td>1</td>\n",
       "      <td>Front Vehicle Collision</td>\n",
       "      <td>50.00</td>\n",
       "      <td>KM 2400</td>\n",
       "      <td>NI5PG</td>\n",
       "      <td>AGUNG SETIADI</td>\n",
       "      <td>https://singapore.jmadas.com/jmftp/device/3543...</td>\n",
       "    </tr>\n",
       "    <tr>\n",
       "      <th>90917</th>\n",
       "      <td>PAMA-1585</td>\n",
       "      <td>2022-06-08 10:36:45</td>\n",
       "      <td>1</td>\n",
       "      <td>Pedestrian Detection Warning</td>\n",
       "      <td>31.00</td>\n",
       "      <td>KM 7800</td>\n",
       "      <td>NI5PG</td>\n",
       "      <td>AGUNG SETIADI</td>\n",
       "      <td>https://singapore.jmadas.com/jmftp/device/3543...</td>\n",
       "    </tr>\n",
       "  </tbody>\n",
       "</table>\n",
       "<p>86403 rows × 9 columns</p>\n",
       "</div>"
      ],
      "text/plain": [
       "      Plate_Number                 Time shift                  Warning_Type  \\\n",
       "0          PM-5804  2021-05-12 09:38:45     1              Driving Behavior   \n",
       "1          PM-5804  2021-05-12 10:05:30     1                     Overspeed   \n",
       "2          PM-5804  2021-05-12 10:12:56     1              Driving Behavior   \n",
       "3          PM-5804  2021-05-12 12:26:33     1                     Overspeed   \n",
       "4          PM-5804  2021-05-12 12:54:10     1              Driving Behavior   \n",
       "...            ...                  ...   ...                           ...   \n",
       "90913      DTH-008  2022-06-10 07:08:58     1  Pedestrian Detection Warning   \n",
       "90914    PAMA-1585  2022-06-07 08:58:23     1       Front Vehicle Collision   \n",
       "90915    PAMA-1585  2022-06-08 03:59:20     2                       Yawning   \n",
       "90916    PAMA-1585  2022-06-08 07:28:02     1       Front Vehicle Collision   \n",
       "90917    PAMA-1585  2022-06-08 10:36:45     1  Pedestrian Detection Warning   \n",
       "\n",
       "       Speed Nama_Area Kode_Drivers              Nama_Driver  \\\n",
       "0      50.00   KM 6000        7B3OW                Udiansyah   \n",
       "1      58.50   KM 6000        7B3OW                Udiansyah   \n",
       "2      51.00   KM 4900        7B3OW                Udiansyah   \n",
       "3      55.87  KM 12800        7B3OW                Udiansyah   \n",
       "4      51.00   KM 5700        7B3OW                Udiansyah   \n",
       "...      ...       ...          ...                      ...   \n",
       "90913  29.00  KM 10000        WQ4C4                   ASMANG   \n",
       "90914  45.00  KM 21000        4L0AQ  SULISTYONO DWI YULIANTO   \n",
       "90915  30.00                  CW78Z         DWI AGUS SUCHAYO   \n",
       "90916  50.00   KM 2400        NI5PG            AGUNG SETIADI   \n",
       "90917  31.00   KM 7800        NI5PG            AGUNG SETIADI   \n",
       "\n",
       "                                                   media  \n",
       "0                                                    NaN  \n",
       "1                                                    NaN  \n",
       "2      https://singapore.jmadas.com/jmftp/device/3543...  \n",
       "3                                                    NaN  \n",
       "4                                                    NaN  \n",
       "...                                                  ...  \n",
       "90913  https://singapore.jmadas.com/jmftp/device/3543...  \n",
       "90914  https://singapore.jmadas.com/jmftp/device/3543...  \n",
       "90915  https://singapore.jmadas.com/jmftp/device/3543...  \n",
       "90916  https://singapore.jmadas.com/jmftp/device/3543...  \n",
       "90917  https://singapore.jmadas.com/jmftp/device/3543...  \n",
       "\n",
       "[86403 rows x 9 columns]"
      ]
     },
     "execution_count": 18,
     "metadata": {},
     "output_type": "execute_result"
    }
   ],
   "source": [
    "# read all column\n",
    "\n",
    "pd.set_option('display.max_columns', None)\n",
    "# df_final.head()\n",
    "df_final"
   ]
  },
  {
   "cell_type": "code",
   "execution_count": 26,
   "id": "eecda8fc",
   "metadata": {
    "collapsed": true
   },
   "outputs": [
    {
     "name": "stdout",
     "output_type": "stream",
     "text": [
      "<class 'pandas.core.frame.DataFrame'>\n",
      "Int64Index: 92643 entries, 0 to 92642\n",
      "Data columns (total 26 columns):\n",
      " #   Column             Non-Null Count  Dtype \n",
      "---  ------             --------------  ----- \n",
      " 0   NO                 92643 non-null  object\n",
      " 1   Plate_Number       92643 non-null  object\n",
      " 2   Nama_Driver        59207 non-null  object\n",
      " 3   Kode_Drivers       59207 non-null  object\n",
      " 4   Count Day/Night    58486 non-null  object\n",
      " 5   shift              92643 non-null  object\n",
      " 6   Date               92643 non-null  object\n",
      " 7   Time2              92643 non-null  object\n",
      " 8   Condition          92165 non-null  object\n",
      " 9   Warning_Type       92643 non-null  object\n",
      " 10  Subject            92643 non-null  object\n",
      " 11  Nama_Area          87555 non-null  object\n",
      " 12  lat                92643 non-null  object\n",
      " 13  lng                92643 non-null  object\n",
      " 14  dir                92643 non-null  object\n",
      " 15  Speed              92643 non-null  object\n",
      " 16  Limit Speed(Km/h)  92643 non-null  object\n",
      " 17  Category.1         12376 non-null  object\n",
      " 18  Status Data        92643 non-null  object\n",
      " 19  Filtered By        0 non-null      object\n",
      " 20  Filter Note        0 non-null      object\n",
      " 21  Intervented By     10062 non-null  object\n",
      " 22  Closing Date       92643 non-null  object\n",
      " 23  Intervention Note  10060 non-null  object\n",
      " 24  media              78896 non-null  object\n",
      " 25  Time               92643 non-null  object\n",
      "dtypes: object(26)\n",
      "memory usage: 19.1+ MB\n"
     ]
    }
   ],
   "source": [
    "# cleaning data\n",
    "\n",
    "# column = ['ID', 'acc', 'id_warning_type', 'flag_alarm']\n",
    "# for i in column:\n",
    "#     df[i] = df[i].astype('object')\n",
    "\n",
    "df_src['shift'] = df_src['shift'].astype('object')\n",
    "df_src = df_src.astype(object).where(pd.notnull(df_src), None)\n",
    "df_src.info()"
   ]
  },
  {
   "cell_type": "code",
   "execution_count": 33,
   "id": "2f56d2d9",
   "metadata": {},
   "outputs": [],
   "source": [
    "# delete null value\n",
    "\n",
    "df_final = df_final.fillna(0)"
   ]
  },
  {
   "cell_type": "code",
   "execution_count": 34,
   "id": "87a63f09",
   "metadata": {},
   "outputs": [
    {
     "data": {
      "text/plain": [
       "Plate_Number    0\n",
       "Time            0\n",
       "shift           0\n",
       "Warning_Type    0\n",
       "Speed           0\n",
       "Nama_Area       0\n",
       "Kode_Drivers    0\n",
       "Nama_Driver     0\n",
       "media           0\n",
       "dtype: int64"
      ]
     },
     "execution_count": 34,
     "metadata": {},
     "output_type": "execute_result"
    }
   ],
   "source": [
    "# see missing value \n",
    "\n",
    "df_final.isnull().sum()"
   ]
  },
  {
   "cell_type": "code",
   "execution_count": 36,
   "id": "9c4bcff6",
   "metadata": {
    "collapsed": true
   },
   "outputs": [
    {
     "ename": "DatabaseError",
     "evalue": "1364 (HY000): Field 'Device_ID' doesn't have a default value",
     "output_type": "error",
     "traceback": [
      "\u001b[1;31m---------------------------------------------------------------------------\u001b[0m",
      "\u001b[1;31mMySQLInterfaceError\u001b[0m                       Traceback (most recent call last)",
      "File \u001b[1;32m~\\anaconda3\\lib\\site-packages\\mysql\\connector\\connection_cext.py:535\u001b[0m, in \u001b[0;36mCMySQLConnection.cmd_query\u001b[1;34m(self, query, raw, buffered, raw_as_string)\u001b[0m\n\u001b[0;32m    534\u001b[0m         query \u001b[38;5;241m=\u001b[39m query\u001b[38;5;241m.\u001b[39mencode(\u001b[38;5;124m'\u001b[39m\u001b[38;5;124mutf-8\u001b[39m\u001b[38;5;124m'\u001b[39m)\n\u001b[1;32m--> 535\u001b[0m     \u001b[38;5;28;43mself\u001b[39;49m\u001b[38;5;241;43m.\u001b[39;49m\u001b[43m_cmysql\u001b[49m\u001b[38;5;241;43m.\u001b[39;49m\u001b[43mquery\u001b[49m\u001b[43m(\u001b[49m\u001b[43mquery\u001b[49m\u001b[43m,\u001b[49m\n\u001b[0;32m    536\u001b[0m \u001b[43m                       \u001b[49m\u001b[43mraw\u001b[49m\u001b[38;5;241;43m=\u001b[39;49m\u001b[43mraw\u001b[49m\u001b[43m,\u001b[49m\u001b[43m \u001b[49m\u001b[43mbuffered\u001b[49m\u001b[38;5;241;43m=\u001b[39;49m\u001b[43mbuffered\u001b[49m\u001b[43m,\u001b[49m\n\u001b[0;32m    537\u001b[0m \u001b[43m                       \u001b[49m\u001b[43mraw_as_string\u001b[49m\u001b[38;5;241;43m=\u001b[39;49m\u001b[43mraw_as_string\u001b[49m\u001b[43m,\u001b[49m\n\u001b[0;32m    538\u001b[0m \u001b[43m                       \u001b[49m\u001b[43mquery_attrs\u001b[49m\u001b[38;5;241;43m=\u001b[39;49m\u001b[38;5;28;43mself\u001b[39;49m\u001b[38;5;241;43m.\u001b[39;49m\u001b[43m_query_attrs\u001b[49m\u001b[43m)\u001b[49m\n\u001b[0;32m    539\u001b[0m \u001b[38;5;28;01mexcept\u001b[39;00m MySQLInterfaceError \u001b[38;5;28;01mas\u001b[39;00m exc:\n",
      "\u001b[1;31mMySQLInterfaceError\u001b[0m: Field 'Device_ID' doesn't have a default value",
      "\nDuring handling of the above exception, another exception occurred:\n",
      "\u001b[1;31mDatabaseError\u001b[0m                             Traceback (most recent call last)",
      "Input \u001b[1;32mIn [36]\u001b[0m, in \u001b[0;36m<cell line: 8>\u001b[1;34m()\u001b[0m\n\u001b[0;32m      9\u001b[0m     val\u001b[38;5;241m=\u001b[39m((df_final[\u001b[38;5;124m'\u001b[39m\u001b[38;5;124mPlate_Number\u001b[39m\u001b[38;5;124m'\u001b[39m][i]),(df_final[\u001b[38;5;124m'\u001b[39m\u001b[38;5;124mTime\u001b[39m\u001b[38;5;124m'\u001b[39m][i]),(df_final[\u001b[38;5;124m'\u001b[39m\u001b[38;5;124mshift\u001b[39m\u001b[38;5;124m'\u001b[39m][i]),(df_final[\u001b[38;5;124m'\u001b[39m\u001b[38;5;124mWarning_Type\u001b[39m\u001b[38;5;124m'\u001b[39m][i]),(df_final[\u001b[38;5;124m'\u001b[39m\u001b[38;5;124mSpeed\u001b[39m\u001b[38;5;124m'\u001b[39m][i]),(df_final[\u001b[38;5;124m'\u001b[39m\u001b[38;5;124mNama_Area\u001b[39m\u001b[38;5;124m'\u001b[39m][i]),(df_final[\u001b[38;5;124m'\u001b[39m\u001b[38;5;124mKode_Drivers\u001b[39m\u001b[38;5;124m'\u001b[39m][i]),(df_final[\u001b[38;5;124m'\u001b[39m\u001b[38;5;124mNama_Driver\u001b[39m\u001b[38;5;124m'\u001b[39m][i]),(df_final[\u001b[38;5;124m'\u001b[39m\u001b[38;5;124mmedia\u001b[39m\u001b[38;5;124m'\u001b[39m][i]))\n\u001b[0;32m     10\u001b[0m     \u001b[38;5;66;03m#(val)\u001b[39;00m\n\u001b[1;32m---> 11\u001b[0m     \u001b[43mmycursor\u001b[49m\u001b[38;5;241;43m.\u001b[39;49m\u001b[43mexecute\u001b[49m\u001b[43m(\u001b[49m\u001b[43msql\u001b[49m\u001b[43m,\u001b[49m\u001b[43mval\u001b[49m\u001b[43m)\u001b[49m\n\u001b[0;32m     13\u001b[0m     db_dst\u001b[38;5;241m.\u001b[39mcommit()\n\u001b[0;32m     15\u001b[0m \u001b[38;5;28mprint\u001b[39m(mycursor\u001b[38;5;241m.\u001b[39mrowcount, \u001b[38;5;124m\"\u001b[39m\u001b[38;5;124mwas inserted.\u001b[39m\u001b[38;5;124m\"\u001b[39m)\n",
      "File \u001b[1;32m~\\anaconda3\\lib\\site-packages\\mysql\\connector\\cursor_cext.py:269\u001b[0m, in \u001b[0;36mCMySQLCursor.execute\u001b[1;34m(self, operation, params, multi)\u001b[0m\n\u001b[0;32m    265\u001b[0m             \u001b[38;5;28;01mraise\u001b[39;00m errors\u001b[38;5;241m.\u001b[39mProgrammingError(\n\u001b[0;32m    266\u001b[0m                 \u001b[38;5;124m\"\u001b[39m\u001b[38;5;124mNot all parameters were used in the SQL statement\u001b[39m\u001b[38;5;124m\"\u001b[39m)\n\u001b[0;32m    268\u001b[0m \u001b[38;5;28;01mtry\u001b[39;00m:\n\u001b[1;32m--> 269\u001b[0m     result \u001b[38;5;241m=\u001b[39m \u001b[38;5;28;43mself\u001b[39;49m\u001b[38;5;241;43m.\u001b[39;49m\u001b[43m_cnx\u001b[49m\u001b[38;5;241;43m.\u001b[39;49m\u001b[43mcmd_query\u001b[49m\u001b[43m(\u001b[49m\u001b[43mstmt\u001b[49m\u001b[43m,\u001b[49m\u001b[43m \u001b[49m\u001b[43mraw\u001b[49m\u001b[38;5;241;43m=\u001b[39;49m\u001b[38;5;28;43mself\u001b[39;49m\u001b[38;5;241;43m.\u001b[39;49m\u001b[43m_raw\u001b[49m\u001b[43m,\u001b[49m\n\u001b[0;32m    270\u001b[0m \u001b[43m                                 \u001b[49m\u001b[43mbuffered\u001b[49m\u001b[38;5;241;43m=\u001b[39;49m\u001b[38;5;28;43mself\u001b[39;49m\u001b[38;5;241;43m.\u001b[39;49m\u001b[43m_buffered\u001b[49m\u001b[43m,\u001b[49m\n\u001b[0;32m    271\u001b[0m \u001b[43m                                 \u001b[49m\u001b[43mraw_as_string\u001b[49m\u001b[38;5;241;43m=\u001b[39;49m\u001b[38;5;28;43mself\u001b[39;49m\u001b[38;5;241;43m.\u001b[39;49m\u001b[43m_raw_as_string\u001b[49m\u001b[43m)\u001b[49m\n\u001b[0;32m    272\u001b[0m \u001b[38;5;28;01mexcept\u001b[39;00m MySQLInterfaceError \u001b[38;5;28;01mas\u001b[39;00m exc:\n\u001b[0;32m    273\u001b[0m     \u001b[38;5;28;01mraise\u001b[39;00m errors\u001b[38;5;241m.\u001b[39mget_mysql_exception(msg\u001b[38;5;241m=\u001b[39mexc\u001b[38;5;241m.\u001b[39mmsg, errno\u001b[38;5;241m=\u001b[39mexc\u001b[38;5;241m.\u001b[39merrno,\n\u001b[0;32m    274\u001b[0m                                      sqlstate\u001b[38;5;241m=\u001b[39mexc\u001b[38;5;241m.\u001b[39msqlstate)\n",
      "File \u001b[1;32m~\\anaconda3\\lib\\site-packages\\mysql\\connector\\connection_cext.py:540\u001b[0m, in \u001b[0;36mCMySQLConnection.cmd_query\u001b[1;34m(self, query, raw, buffered, raw_as_string)\u001b[0m\n\u001b[0;32m    535\u001b[0m     \u001b[38;5;28mself\u001b[39m\u001b[38;5;241m.\u001b[39m_cmysql\u001b[38;5;241m.\u001b[39mquery(query,\n\u001b[0;32m    536\u001b[0m                        raw\u001b[38;5;241m=\u001b[39mraw, buffered\u001b[38;5;241m=\u001b[39mbuffered,\n\u001b[0;32m    537\u001b[0m                        raw_as_string\u001b[38;5;241m=\u001b[39mraw_as_string,\n\u001b[0;32m    538\u001b[0m                        query_attrs\u001b[38;5;241m=\u001b[39m\u001b[38;5;28mself\u001b[39m\u001b[38;5;241m.\u001b[39m_query_attrs)\n\u001b[0;32m    539\u001b[0m \u001b[38;5;28;01mexcept\u001b[39;00m MySQLInterfaceError \u001b[38;5;28;01mas\u001b[39;00m exc:\n\u001b[1;32m--> 540\u001b[0m     \u001b[38;5;28;01mraise\u001b[39;00m errors\u001b[38;5;241m.\u001b[39mget_mysql_exception(exc\u001b[38;5;241m.\u001b[39merrno, msg\u001b[38;5;241m=\u001b[39mexc\u001b[38;5;241m.\u001b[39mmsg,\n\u001b[0;32m    541\u001b[0m                                      sqlstate\u001b[38;5;241m=\u001b[39mexc\u001b[38;5;241m.\u001b[39msqlstate)\n\u001b[0;32m    542\u001b[0m \u001b[38;5;28;01mexcept\u001b[39;00m \u001b[38;5;167;01mAttributeError\u001b[39;00m:\n\u001b[0;32m    543\u001b[0m     \u001b[38;5;28;01mif\u001b[39;00m \u001b[38;5;28mself\u001b[39m\u001b[38;5;241m.\u001b[39m_unix_socket:\n",
      "\u001b[1;31mDatabaseError\u001b[0m: 1364 (HY000): Field 'Device_ID' doesn't have a default value"
     ]
    }
   ],
   "source": [
    "# DANGERR!!!!!\n",
    "# insert data to mySQL Database\n",
    "\n",
    "mycursor= db_dst.cursor()\n",
    "\n",
    "sql = \"INSERT INTO dms_backup.db_all_mitra_all(Plate_Number, Time, shift, Warning_Type, Speed, Nama_Area, Kode_Drivers, Nama_Driver, media) VALUES (%s,%s,%s,%s,%s,%s,%s,%s,%s)\"\n",
    "\n",
    "for i in range(0,len(df_src)):\n",
    "    val=((df_final['Plate_Number'][i]),(df_final['Time'][i]),(df_final['shift'][i]),(df_final['Warning_Type'][i]),(df_final['Speed'][i]),(df_final['Nama_Area'][i]),(df_final['Kode_Drivers'][i]),(df_final['Nama_Driver'][i]),(df_final['media'][i]))\n",
    "    #(val)\n",
    "    mycursor.execute(sql,val)\n",
    "    \n",
    "    db_dst.commit()\n",
    "\n",
    "print(mycursor.rowcount, \"was inserted.\")"
   ]
  },
  {
   "cell_type": "code",
   "execution_count": null,
   "id": "3954a761",
   "metadata": {},
   "outputs": [],
   "source": []
  }
 ],
 "metadata": {
  "kernelspec": {
   "display_name": "Python 3 (ipykernel)",
   "language": "python",
   "name": "python3"
  },
  "language_info": {
   "codemirror_mode": {
    "name": "ipython",
    "version": 3
   },
   "file_extension": ".py",
   "mimetype": "text/x-python",
   "name": "python",
   "nbconvert_exporter": "python",
   "pygments_lexer": "ipython3",
   "version": "3.9.12"
  }
 },
 "nbformat": 4,
 "nbformat_minor": 5
}
