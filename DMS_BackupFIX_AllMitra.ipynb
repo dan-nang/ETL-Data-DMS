{
 "cells": [
  {
   "cell_type": "markdown",
   "id": "e00e964a",
   "metadata": {},
   "source": [
    "# AUTOMATION INPUT DATA DMS Fix"
   ]
  },
  {
   "cell_type": "code",
   "execution_count": 2,
   "id": "04963017",
   "metadata": {},
   "outputs": [
    {
     "name": "stdout",
     "output_type": "stream",
     "text": [
      "Requirement already satisfied: pandasql in c:\\users\\danan\\anaconda3\\lib\\site-packages (0.7.3)\n",
      "Requirement already satisfied: pandas in c:\\users\\danan\\anaconda3\\lib\\site-packages (from pandasql) (1.4.2)\n",
      "Requirement already satisfied: sqlalchemy in c:\\users\\danan\\anaconda3\\lib\\site-packages (from pandasql) (1.4.37)\n",
      "Requirement already satisfied: numpy in c:\\users\\danan\\anaconda3\\lib\\site-packages (from pandasql) (1.22.4)\n",
      "Requirement already satisfied: python-dateutil>=2.8.1 in c:\\users\\danan\\anaconda3\\lib\\site-packages (from pandas->pandasql) (2.8.2)\n",
      "Requirement already satisfied: pytz>=2020.1 in c:\\users\\danan\\anaconda3\\lib\\site-packages (from pandas->pandasql) (2021.3)\n",
      "Requirement already satisfied: greenlet!=0.4.17 in c:\\users\\danan\\anaconda3\\lib\\site-packages (from sqlalchemy->pandasql) (1.1.2)\n",
      "Requirement already satisfied: six>=1.5 in c:\\users\\danan\\anaconda3\\lib\\site-packages (from python-dateutil>=2.8.1->pandas->pandasql) (1.16.0)\n"
     ]
    }
   ],
   "source": [
    "#!pip install python-numexpr\n",
    "#!pip install python-pip build-essentials\n",
    "#!pip install bottleneck\n",
    "import pandas as pd\n",
    "!pip install pandasql\n",
    "from pandasql import sqldf"
   ]
  },
  {
   "cell_type": "code",
   "execution_count": 1,
   "id": "df6c37e2",
   "metadata": {},
   "outputs": [
    {
     "name": "stdout",
     "output_type": "stream",
     "text": [
      "Connected\n"
     ]
    }
   ],
   "source": [
    "#read db Source\n",
    "import mysql.connector\n",
    "\n",
    "db_src = mysql.connector.connect(\n",
    "    host= '#YOURHOST',\n",
    "    port= #YOURPORT,\n",
    "    user= '#YOURUSER',\n",
    "    password= '#YOURPASSWORD',\n",
    "    database=\"#YOURDATABASE\"\n",
    ")\n",
    "if db_src.is_connected():\n",
    "    print(\"Connected\")"
   ]
  },
  {
   "cell_type": "code",
   "execution_count": null,
   "id": "14f3165c",
   "metadata": {},
   "outputs": [],
   "source": [
    "# Open data source MySQL\n",
    "mycursor_src = db_src.cursor()\n",
    "data_src =pd.read_sql_query(\"select * from db_dms_2.db_all_mitra\", con=db_src)\n",
    "data_src.tail()"
   ]
  },
  {
   "cell_type": "code",
   "execution_count": null,
   "id": "017d2330",
   "metadata": {},
   "outputs": [],
   "source": [
    "# # df_src= data_src.rename(columns={\"Nama Driver\":\"Nama_Driver\"})\n",
    "# df_cek=  sqldf(\"select distinct(Nama_Driver) from df_src where Mitra = 'Mutiara Tanjung Lestari'\")\n",
    "# df_cek"
   ]
  },
  {
   "cell_type": "code",
   "execution_count": null,
   "id": "a156246b",
   "metadata": {},
   "outputs": [],
   "source": [
    "#read db Destination\n",
    "db_dst = mysql.connector.connect(\n",
    "    host= '#YOURHOST',\n",
    "    port= #YOURPORT,\n",
    "    user= '#YOURUSER',\n",
    "    password= '#YOURPASSWORD',\n",
    "    database=\"#YOURDATABASE\"\n",
    ")\n",
    "if db_dst.is_connected():\n",
    "    print(\"Connected\")"
   ]
  },
  {
   "cell_type": "code",
   "execution_count": null,
   "id": "cce4eb68",
   "metadata": {},
   "outputs": [],
   "source": [
    "# Open data destination MySQL\n",
    "mycursor_dst = db_dst.cursor()\n",
    "data_dst = pd.read_sql_query(\"select * from dms2.DMS_Backup\", con=db_dst)\n",
    "data_dst"
   ]
  },
  {
   "cell_type": "code",
   "execution_count": null,
   "id": "36fd1ca4",
   "metadata": {},
   "outputs": [],
   "source": [
    "# Select data\n",
    "df = sqldf(\"select * from data_src where ID NOT IN (select ID from data_dst)\")"
   ]
  },
  {
   "cell_type": "code",
   "execution_count": null,
   "id": "618b271a",
   "metadata": {},
   "outputs": [],
   "source": [
    "df.column"
   ]
  },
  {
   "cell_type": "code",
   "execution_count": null,
   "id": "124a4e4e",
   "metadata": {},
   "outputs": [],
   "source": [
    "df = sqldf(\"select * from df order by Time\")"
   ]
  },
  {
   "cell_type": "code",
   "execution_count": null,
   "id": "a6a0cc2c",
   "metadata": {},
   "outputs": [],
   "source": [
    "df.head()"
   ]
  },
  {
   "cell_type": "markdown",
   "id": "722463a9",
   "metadata": {},
   "source": [
    "# Import to Local Database DMS_Backup "
   ]
  },
  {
   "cell_type": "code",
   "execution_count": 7,
   "id": "48968011",
   "metadata": {},
   "outputs": [
    {
     "name": "stdout",
     "output_type": "stream",
     "text": [
      "Connected\n"
     ]
    }
   ],
   "source": [
    "import mysql.connector\n",
    "import pandas as pd\n",
    "\n",
    "#read db destination\n",
    "\n",
    "mydb = mysql.connector.connect(\n",
    "    host= '#YOURHOST',\n",
    "    port= #YOURPORT,\n",
    "    user= '#YOURUSER',\n",
    "    password= '#YOURPASSWORD',\n",
    "    database=\"#YOURDATABASE\"\n",
    ")\n",
    "if mydb.is_connected():\n",
    "    print(\"Connected\")"
   ]
  },
  {
   "cell_type": "code",
   "execution_count": 8,
   "id": "4f3ffc33",
   "metadata": {},
   "outputs": [],
   "source": [
    "# convert column to object type\n",
    "column = ['ID', 'acc', 'id_warning_type', 'flag_alarm']\n",
    "for i in column:\n",
    "    df[i] = df[i].astype('object')"
   ]
  },
  {
   "cell_type": "code",
   "execution_count": null,
   "id": "493b09dd",
   "metadata": {},
   "outputs": [],
   "source": [
    "df_hasil = df \n",
    "df.info()"
   ]
  },
  {
   "cell_type": "code",
   "execution_count": 10,
   "id": "f6de18a2",
   "metadata": {},
   "outputs": [
    {
     "name": "stdout",
     "output_type": "stream",
     "text": [
      "1 was inserted.\n"
     ]
    }
   ],
   "source": [
    "#insert data to mySQL Database\n",
    "\n",
    "mycursor= mydb.cursor()\n",
    "\n",
    "sql = \"INSERT INTO dms2.DMS_Backup(ID, Plate_Number, Device_ID, Time, shift, Mitra, Warning_Type, Speed, Nama_Area, Kode_Drivers, Nama_Driver, dir, lat, lng, acc, altitude, media, id_warning_type, kode_driver, flag_alarm, DN) VALUES (%s,%s,%s,%s,%s,%s,%s,%s,%s,%s,%s,%s,%s,%s,%s,%s,%s,%s,%s,%s,%s)\"\n",
    "\n",
    "for i in range(0,len(df_hasil)):\n",
    "    val=((df_hasil['ID'][i]),(df_hasil['Plate Number'][i]),(df_hasil['Device ID'][i]),(df_hasil['Time'][i]),(df_hasil['shift'][i]),(df_hasil['Mitra'][i]),(df_hasil['Warning Type'][i]),(df_hasil['Speed'][i]),(df_hasil['Nama Area'][i]),(df_hasil['Kode Driver'][i]),(df_hasil['Nama Driver'][i]),(df_hasil['dir'][i]),(df_hasil['lat'][i]),(df_hasil['lng'][i]),(df_hasil['acc'][i]),(df_hasil['altitude'][i]),(df_hasil['media'][i]),(df_hasil['id_warning_type'][i]),(df_hasil['kode_driver'][i]), (df_hasil['flag_alarm'][i]), (df_hasil['DN'][i]))\n",
    "    #(val)\n",
    "    mycursor.execute(sql,val)\n",
    "    \n",
    "    mydb.commit()\n",
    "\n",
    "print(mycursor.rowcount, \"was inserted.\")"
   ]
  },
  {
   "cell_type": "code",
   "execution_count": null,
   "id": "2d8e7ee1",
   "metadata": {},
   "outputs": [],
   "source": []
  }
 ],
 "metadata": {
  "kernelspec": {
   "display_name": "Python 3 (ipykernel)",
   "language": "python",
   "name": "python3"
  },
  "language_info": {
   "codemirror_mode": {
    "name": "ipython",
    "version": 3
   },
   "file_extension": ".py",
   "mimetype": "text/x-python",
   "name": "python",
   "nbconvert_exporter": "python",
   "pygments_lexer": "ipython3",
   "version": "3.9.12"
  },
  "toc-autonumbering": false,
  "toc-showmarkdowntxt": false
 },
 "nbformat": 4,
 "nbformat_minor": 5
}
